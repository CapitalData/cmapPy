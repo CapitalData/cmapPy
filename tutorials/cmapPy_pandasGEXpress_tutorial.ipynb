{
 "cells": [
  {
   "cell_type": "markdown",
   "metadata": {},
   "source": [
    "# Using pandasGEXpress with .gct/x files \n",
    "\n",
    "--------------------------------------------------------------------------------\n",
    "## A sample tutorial using data from [GEO GSE70138](https://www.ncbi.nlm.nih.gov/geo/query/acc.cgi?acc=GSE70138)\n",
    "\n",
    "Author: Oana Enache\n",
    "\n",
    "Last updated February 23rd, 2018\n",
    "\n",
    "For questions and issue reports, please file an issue at github.com/cmap/cmapPy. \n",
    "\n",
    "--------------------------------------------------------------------------------"
   ]
  },
  {
   "cell_type": "markdown",
   "metadata": {
    "collapsed": true
   },
   "source": [
    "## Table of Contents\n",
    "\n",
    "We have developed this tutorial to loosely follow a workflow we recommend for .gct/x files downloaded from GEO GSE70138. \n",
    "\n",
    "[Background info](#background)\n",
    "\n",
    "[Obtaining data from GEO](#getdata)\n",
    "\n",
    "[Activate your conda environment](#conda)\n",
    "\n",
    "[Parse in metadata only](#metadataparse)\n",
    "\n",
    "[Parsing in a gct/x file](#parsegctx)\n",
    "\n",
    "[Add/delete annotations](#annotations)\n",
    "\n",
    "[Slicing gct/x files and GCToo instances](#slicing)\n",
    "\n",
    "[Merging gct/x files](#merging)\n",
    "\n",
    "[Construct a GCToo instance](#newGCToo)\n",
    "\n",
    "[Using GCToo instances with pandas tools](#pandas)\n",
    "\n",
    "[Plotting with GCToo objects](#plotting)\n",
    "\n",
    "[Write a GCToo instance to file](#writing)\n",
    "\n",
    "[Converting .gct <-> .gctx](#converting)\n",
    "\n",
    "--------------------------------------------------------------------------------"
   ]
  },
  {
   "cell_type": "markdown",
   "metadata": {},
   "source": [
    "<a id=\"background\"></a>\n",
    "\n",
    "\n",
    "## Background: What's .gct, .gctx, and GCToo? \n",
    "\n",
    "For more details on each of these topics, please visit clue.io/code. \n",
    "\n",
    "\n",
    "### The .gct format \n",
    "\n",
    "![Sample GCT file](GCT_mockup.png)\n",
    "\n",
    "The GCT file format, a tab-delimited text-based format pairing matrix expression values with row and column metadata, allowing comparison of both transcriptional and contextual differences across samples. A schematic of a sample GCT file is pictured above. \n",
    "\n",
    "### The .gctx format\n",
    "\n",
    "![Sample GCTX file](GCTX_mockup.png)\n",
    "\n",
    "The GCTX file format was developed to improve serialization performance of GCT, particularly for large files. GCTX is an HDF5-based data format that can contain the same content as one or more GCT files in a hierarchically-structured, compressed, and easily accessible form (full file specification available at clue.io/code). Amongst other features, the HDF5 format allows users the ability to parse a subset of a large data set without reading the entire data set into memory first (using hyperslab selection). A schematic of a sample GCTX file is pictured above.\n",
    "\n",
    "### The GCToo object \n",
    "\n",
    "`GCToo` objects are instances of the GCToo class we developed to represent .gct and .gctx files in a form compatible with Python's [PANDAS](http://pandas.pydata.org/) library. In essence, GCToo is a container of 3 pandas DataFrames (optionally, can also include a multi-index DataFrame of these 3 DataFrames combined) as well as two attributes representing the file source and version respectively. For more information, please see [our documentation](https://clue.io/cmapPy/pandasGEXpress.html#gctoo-class). "
   ]
  },
  {
   "cell_type": "markdown",
   "metadata": {},
   "source": [
    "<a id=\"getdata\"></a>\n",
    "## Obtaining Data from Gene Expression Omnibus (GEO)"
   ]
  },
  {
   "cell_type": "markdown",
   "metadata": {},
   "source": [
    "[Gene Expression Omnibus](https://www.ncbi.nlm.nih.gov/geo/), or GEO, is a NCBI-maintained public repository of array and sequence genomics data. As of April 2017, we have provided 1.7 million profiles to GEO at the following accessions:\n",
    "\n",
    "* [GSE70138](https://www.ncbi.nlm.nih.gov/geo/query/acc.cgi?acc=GSE70138)\n",
    "\n",
    "* [GSE92742](https://www.ncbi.nlm.nih.gov/geo/query/acc.cgi?acc=GSE92742)\n",
    "\n",
    "* [GSE92743](https://www.ncbi.nlm.nih.gov/geo/query/acc.cgi?acc=GSE92743)\n",
    "\n",
    "Please note that this does not represent the only data available in .gct and .gctx format; we simply mention it as a public resource for freely available data in these formats, and will use it as an example in this tutorial. \n",
    "\n",
    "Data can be downloaded from GEO using either using FTP or HTTP; see accession pages above for details. Details on what content is within each file published is clarified in the [GEO User Guide](https://docs.google.com/document/d/1q2gciWRhVCAAnlvF2iRLuJ7whrGP6QjpsCMq1yWz7dU/edit?usp=sharing). "
   ]
  },
  {
   "cell_type": "markdown",
   "metadata": {},
   "source": [
    "<a id=\"conda\"></a>\n",
    "## Activate your cmapPy conda environment \n",
    "\n",
    "If you haven't done so already, [create a conda environment to use for your analyses](https://clue.io/cmapPy/build.html#install).\n",
    "\n",
    "For this example, we've named our conda environment ``my_cmapPy_env``. \n",
    "\n",
    "**Be sure to activate your environment before proceeding!**\n",
    "\n",
    "``source activate my_cmapPy_env``"
   ]
  },
  {
   "cell_type": "markdown",
   "metadata": {},
   "source": [
    "<a id=\"metadataparse\"></a>\n",
    "## Parse in metadata only \n",
    "\n",
    "Although we are in the process of developing tools to provide out of core functionality for larger that memory .gctx files, for now some .gctx files may be larger than the RAM you have available on your computer (note, we do not recommend the use of .gct for files above ~1000 samples). If this is the case, you have two options:\n",
    "\n",
    "    1. Obtain access to a server/instance that has more RAM. \n",
    "    2. Read the metadata in first, find the sample (column) id values (\"cids\") that you're actually interested in, and only parse those cids in. \n",
    "\n",
    "### How to parse in metadata only from GEO\n",
    "\n",
    "This would be applicable if you were interested in only certain samples (or certain compound names, cell types, etc). Here, we parse in the metadata from the level 5 (replicate-collapsed signature) data on GSE70138.\n",
    "\n",
    "#### Sample (column) annotations \n",
    "\n",
    "On GEO, because of submission requirements annotations file are stored as separate tab-delimited text files. For level 5 data, we're interested in the \"sig\" related data tables. For this example, we previously downloaded and unzipped \"GSE70138_Broad_LINCS_sig_info_2017-03-06.txt.gz\" (corresponding to identifying information about the samples; if you wanted metrics-related information for filtering, explore the equivalently labelled \"sig metrics\" file). \n",
    "\n",
    "Then, we read this in to a pandas DataFrame: "
   ]
  },
  {
   "cell_type": "code",
   "execution_count": 32,
   "metadata": {},
   "outputs": [],
   "source": [
    "import pandas as pd\n",
    "\n",
    "sig_info = pd.read_csv(\"GSE70138_Broad_LINCS_sig_info_2017-03-06.txt\", sep=\"\\t\")"
   ]
  },
  {
   "cell_type": "code",
   "execution_count": 33,
   "metadata": {},
   "outputs": [
    {
     "data": {
      "text/plain": [
       "Index([u'sig_id', u'pert_id', u'pert_iname', u'pert_type', u'cell_id',\n",
       "       u'pert_idose', u'pert_itime', u'distil_id'],\n",
       "      dtype='object')"
      ]
     },
     "execution_count": 33,
     "metadata": {},
     "output_type": "execute_result"
    }
   ],
   "source": [
    "# look at the metadata fields provided \n",
    "sig_info.columns"
   ]
  },
  {
   "cell_type": "markdown",
   "metadata": {},
   "source": [
    "As an illustrative example, say we're only interested in looking at expression data corresponding to cells treated as vorinostat. So, we first want to find the sig_id values that correspond to vorinostat-treated samples:"
   ]
  },
  {
   "cell_type": "code",
   "execution_count": 34,
   "metadata": {},
   "outputs": [
    {
     "name": "stdout",
     "output_type": "stream",
     "text": [
      "number of samples treated with vorinostat:\n"
     ]
    },
    {
     "data": {
      "text/plain": [
       "210"
      ]
     },
     "execution_count": 34,
     "metadata": {},
     "output_type": "execute_result"
    }
   ],
   "source": [
    "# get all samples (across all cell types, doses, and other treatment conditions) that were treated with vorinostat\n",
    "vorinostat_ids = sig_info[\"sig_id\"][sig_info[\"pert_iname\"] == \"vorinostat\"]\n",
    "# how many samples are there in this data set?\n",
    "print(\"number of samples treated with vorinostat:\")\n",
    "len(vorinostat_ids)"
   ]
  },
  {
   "cell_type": "markdown",
   "metadata": {},
   "source": [
    "#### Gene (row) annotations \n",
    "\n",
    "Analogously, you might be interested in only parsing in a specific row space; for example, you might be interested at only only examining patterns in expression of [landmark genes](https://clue.io/connectopedia/what_are_landmark_genes). The metadata column identifying landmark membership is `pr_is_lm` (for more details on other metadata header meanings, please see the [GEO User Guide](https://docs.google.com/document/d/1q2gciWRhVCAAnlvF2iRLuJ7whrGP6QjpsCMq1yWz7dU/edit#heading=h.l6bq0r1aih50)). \n",
    "\n",
    "So, we would parse in the gene annotations and obtain a list of only the row identifiers corresponding to landmark genes. **Note that for Entrez ids (as below), you need to specify that the data type annotations are strings (dtype=str argument below); otherwise, the parser currently behaves as if you're subsetting by index.** "
   ]
  },
  {
   "cell_type": "code",
   "execution_count": 35,
   "metadata": {},
   "outputs": [
    {
     "data": {
      "text/plain": [
       "Index([u'pr_gene_id', u'pr_gene_symbol', u'pr_gene_title', u'pr_is_lm',\n",
       "       u'pr_is_bing'],\n",
       "      dtype='object')"
      ]
     },
     "execution_count": 35,
     "metadata": {},
     "output_type": "execute_result"
    }
   ],
   "source": [
    "gene_info = pd.read_csv(\"GSE70138_Broad_LINCS_gene_info_2017-03-06.txt\", sep=\"\\t\", dtype=str)\n",
    "gene_info.columns"
   ]
  },
  {
   "cell_type": "code",
   "execution_count": 36,
   "metadata": {},
   "outputs": [],
   "source": [
    "# again, note that because gene_info dtypes are str, you need to find ids equal to \"1\" not 1 \n",
    "landmark_gene_row_ids = gene_info[\"pr_gene_id\"][gene_info[\"pr_is_lm\"] == \"1\"]"
   ]
  },
  {
   "cell_type": "markdown",
   "metadata": {},
   "source": [
    "Once you have the row and/or column identifiers you're interested in, parse only these ids from the GCTX file (see [Parse in a gctx](#parsegctx) below). "
   ]
  },
  {
   "cell_type": "markdown",
   "metadata": {},
   "source": [
    "### Side note: How to parse in metadata only from a metadata-annotated gctx\n",
    "\n",
    "Note. *This is not specifically relevant to the data available on GEO*, but if you have a .gctx file with row/column annotations and want to only look at the metadata annotations, you can also read only these fields in from the gctx. You would do this as follows:\n",
    "\n",
    "``from cmapPy.pandasGEXpress import parse`` \n",
    "\n",
    "``gctx_metadata_only = parse(\"path/to/gctx.gctx\", metadata_only=True)``"
   ]
  },
  {
   "cell_type": "code",
   "execution_count": 37,
   "metadata": {},
   "outputs": [
    {
     "data": {
      "text/html": [
       "<div>\n",
       "<table border=\"1\" class=\"dataframe\">\n",
       "  <thead>\n",
       "    <tr style=\"text-align: right;\">\n",
       "      <th>chd</th>\n",
       "    </tr>\n",
       "    <tr>\n",
       "      <th>cid</th>\n",
       "    </tr>\n",
       "  </thead>\n",
       "  <tbody>\n",
       "    <tr>\n",
       "      <th>REP.A001_A375_24H:A03</th>\n",
       "    </tr>\n",
       "    <tr>\n",
       "      <th>REP.A001_A375_24H:A04</th>\n",
       "    </tr>\n",
       "    <tr>\n",
       "      <th>REP.A001_A375_24H:A05</th>\n",
       "    </tr>\n",
       "    <tr>\n",
       "      <th>REP.A001_A375_24H:A06</th>\n",
       "    </tr>\n",
       "    <tr>\n",
       "      <th>REP.A001_A375_24H:A07</th>\n",
       "    </tr>\n",
       "  </tbody>\n",
       "</table>\n",
       "</div>"
      ],
      "text/plain": [
       "Empty DataFrame\n",
       "Columns: []\n",
       "Index: [REP.A001_A375_24H:A03, REP.A001_A375_24H:A04, REP.A001_A375_24H:A05, REP.A001_A375_24H:A06, REP.A001_A375_24H:A07]"
      ]
     },
     "execution_count": 37,
     "metadata": {},
     "output_type": "execute_result"
    }
   ],
   "source": [
    "from cmapPy.pandasGEXpress import parse\n",
    "\n",
    "my_col_metadata = parse(\"GSE70138_Broad_LINCS_Level5_COMPZ_n118050x12328_2017-03-06.gctx\", col_meta_only=True)\n",
    "my_col_metadata[0:5]"
   ]
  },
  {
   "cell_type": "markdown",
   "metadata": {},
   "source": [
    "<a id=\"parsegctx\"></a>\n",
    "# Parse in a gctx\n",
    "\n",
    "Now we're ready to read in expression data! For parsing, here are your options:\n",
    "\n",
    "1. Read in an entire gctx file\n",
    "2. Read in a subset of ids \n",
    "\n",
    "Generally, we recommend choice 2. \n",
    "\n",
    "## Example 1: Parse in a subset of samples/columns \n",
    "\n",
    "We'll demonstrate how to do so here using the ``vorinostat_ids`` we obtained [in the previous section](#metadataparse). "
   ]
  },
  {
   "cell_type": "code",
   "execution_count": 38,
   "metadata": {},
   "outputs": [],
   "source": [
    "from cmapPy.pandasGEXpress import parse\n",
    "vorinostat_only_gctoo = parse(\"GSE70138_Broad_LINCS_Level5_COMPZ_n118050x12328_2017-03-06.gctx\", cid=vorinostat_ids)"
   ]
  },
  {
   "cell_type": "code",
   "execution_count": 39,
   "metadata": {},
   "outputs": [
    {
     "data": {
      "text/plain": [
       "(12328, 210)"
      ]
     },
     "execution_count": 39,
     "metadata": {},
     "output_type": "execute_result"
    }
   ],
   "source": [
    "# Check to make sure we have all 210 colums of expression data: \n",
    "vorinostat_only_gctoo.data_df.shape #yup! "
   ]
  },
  {
   "cell_type": "markdown",
   "metadata": {},
   "source": [
    "## Example 2: Parse in a subset of genes/rows\n",
    "\n",
    "We'll demonstrate how to do so here using the ``landmark_gene_row_ids`` we obtained [in the previous section](#metadataparse). "
   ]
  },
  {
   "cell_type": "code",
   "execution_count": 40,
   "metadata": {},
   "outputs": [],
   "source": [
    "landmark_only_gctoo = parse(\"GSE70138_Broad_LINCS_Level5_COMPZ_n118050x12328_2017-03-06.gctx\", rid = landmark_gene_row_ids)"
   ]
  },
  {
   "cell_type": "code",
   "execution_count": 41,
   "metadata": {},
   "outputs": [
    {
     "data": {
      "text/plain": [
       "(978, 118050)"
      ]
     },
     "execution_count": 41,
     "metadata": {},
     "output_type": "execute_result"
    }
   ],
   "source": [
    "# Check to make sure we only have 978 rows of expression data: \n",
    "landmark_only_gctoo.data_df.shape #yup! "
   ]
  },
  {
   "cell_type": "markdown",
   "metadata": {},
   "source": [
    "Notes:\n",
    "\n",
    "* If you did want to read in the entire file (option 1 above), you would just parse in the gct/x without the ``cid`` argument.\n",
    "* Subsetting as demonstrated above is also available for row ids (rids). Here, this would correspond to only looking at certain genes of interest. "
   ]
  },
  {
   "cell_type": "markdown",
   "metadata": {},
   "source": [
    "<a id=\"annotations\"></a>\n",
    "## Add/delete annotations to an existing GCToo instance \n",
    "\n",
    "### Adding annotations\n",
    "Now we have our sig_id annotations, and also a GCToo instance of expression data. This would probably be more useful to us as one unified object, so let's annotate our `vorinostat_only_gctoo` with the id information relevant to it: "
   ]
  },
  {
   "cell_type": "code",
   "execution_count": 42,
   "metadata": {},
   "outputs": [
    {
     "data": {
      "text/html": [
       "<div>\n",
       "<table border=\"1\" class=\"dataframe\">\n",
       "  <thead>\n",
       "    <tr style=\"text-align: right;\">\n",
       "      <th></th>\n",
       "      <th>sig_id</th>\n",
       "      <th>pert_id</th>\n",
       "      <th>pert_iname</th>\n",
       "      <th>pert_type</th>\n",
       "      <th>cell_id</th>\n",
       "      <th>pert_idose</th>\n",
       "      <th>pert_itime</th>\n",
       "      <th>distil_id</th>\n",
       "    </tr>\n",
       "  </thead>\n",
       "  <tbody>\n",
       "    <tr>\n",
       "      <th>15923</th>\n",
       "      <td>LJP007_A375_24H:A03</td>\n",
       "      <td>BRD-K81418486</td>\n",
       "      <td>vorinostat</td>\n",
       "      <td>trt_cp</td>\n",
       "      <td>A375</td>\n",
       "      <td>10.0 um</td>\n",
       "      <td>24 h</td>\n",
       "      <td>LJP007_A375_24H_X1_B20:A03|LJP007_A375_24H_X2_...</td>\n",
       "    </tr>\n",
       "    <tr>\n",
       "      <th>16302</th>\n",
       "      <td>LJP007_A549_24H:A03</td>\n",
       "      <td>BRD-K81418486</td>\n",
       "      <td>vorinostat</td>\n",
       "      <td>trt_cp</td>\n",
       "      <td>A549</td>\n",
       "      <td>10.0 um</td>\n",
       "      <td>24 h</td>\n",
       "      <td>LJP007_A549_24H_X1_F1B19:A03|LJP007_A549_24H_X...</td>\n",
       "    </tr>\n",
       "    <tr>\n",
       "      <th>16681</th>\n",
       "      <td>LJP007_ASC.C_24H:A03</td>\n",
       "      <td>BRD-K81418486</td>\n",
       "      <td>vorinostat</td>\n",
       "      <td>trt_cp</td>\n",
       "      <td>ASC.C</td>\n",
       "      <td>10.0 um</td>\n",
       "      <td>24 h</td>\n",
       "      <td>LJP007_ASC.C_24H_X1_B21:A03|LJP007_ASC.C_24H_X...</td>\n",
       "    </tr>\n",
       "    <tr>\n",
       "      <th>17056</th>\n",
       "      <td>LJP007_ASC_24H:A03</td>\n",
       "      <td>BRD-K81418486</td>\n",
       "      <td>vorinostat</td>\n",
       "      <td>trt_cp</td>\n",
       "      <td>ASC</td>\n",
       "      <td>10.0 um</td>\n",
       "      <td>24 h</td>\n",
       "      <td>LJP007_ASC_24H_X1_B21:A03|LJP007_ASC_24H_X2.A2...</td>\n",
       "    </tr>\n",
       "    <tr>\n",
       "      <th>17432</th>\n",
       "      <td>LJP007_CD34_24H:A03</td>\n",
       "      <td>BRD-K81418486</td>\n",
       "      <td>vorinostat</td>\n",
       "      <td>trt_cp</td>\n",
       "      <td>CD34</td>\n",
       "      <td>10.0 um</td>\n",
       "      <td>24 h</td>\n",
       "      <td>LJP007_CD34_24H_X2_B21:A03|LJP007_CD34_24H_X3....</td>\n",
       "    </tr>\n",
       "  </tbody>\n",
       "</table>\n",
       "</div>"
      ],
      "text/plain": [
       "                     sig_id        pert_id  pert_iname pert_type cell_id  \\\n",
       "15923   LJP007_A375_24H:A03  BRD-K81418486  vorinostat    trt_cp    A375   \n",
       "16302   LJP007_A549_24H:A03  BRD-K81418486  vorinostat    trt_cp    A549   \n",
       "16681  LJP007_ASC.C_24H:A03  BRD-K81418486  vorinostat    trt_cp   ASC.C   \n",
       "17056    LJP007_ASC_24H:A03  BRD-K81418486  vorinostat    trt_cp     ASC   \n",
       "17432   LJP007_CD34_24H:A03  BRD-K81418486  vorinostat    trt_cp    CD34   \n",
       "\n",
       "      pert_idose pert_itime                                          distil_id  \n",
       "15923    10.0 um       24 h  LJP007_A375_24H_X1_B20:A03|LJP007_A375_24H_X2_...  \n",
       "16302    10.0 um       24 h  LJP007_A549_24H_X1_F1B19:A03|LJP007_A549_24H_X...  \n",
       "16681    10.0 um       24 h  LJP007_ASC.C_24H_X1_B21:A03|LJP007_ASC.C_24H_X...  \n",
       "17056    10.0 um       24 h  LJP007_ASC_24H_X1_B21:A03|LJP007_ASC_24H_X2.A2...  \n",
       "17432    10.0 um       24 h  LJP007_CD34_24H_X2_B21:A03|LJP007_CD34_24H_X3....  "
      ]
     },
     "execution_count": 42,
     "metadata": {},
     "output_type": "execute_result"
    }
   ],
   "source": [
    "# first, we need to subset all the metadata information from our larger metadata DataFrame\n",
    "vorinostat_sig_id_info =  sig_info[sig_info[\"pert_iname\"] == \"vorinostat\"]\n",
    "# let's look at a couple rows! \n",
    "vorinostat_sig_id_info[0:5]"
   ]
  },
  {
   "cell_type": "code",
   "execution_count": 43,
   "metadata": {},
   "outputs": [
    {
     "data": {
      "text/plain": [
       "Index([u'LJP007_A375_24H:A03', u'LJP007_A549_24H:A03', u'LJP007_ASC.C_24H:A03',\n",
       "       u'LJP007_ASC_24H:A03', u'LJP007_CD34_24H:A03', u'LJP007_HA1E_24H:A03',\n",
       "       u'LJP007_HCC515_24H:A03', u'LJP007_HEPG2_24H:A03',\n",
       "       u'LJP007_HME1_24H:A03', u'LJP007_HT29_24H:A03',\n",
       "       ...\n",
       "       u'LPROT003_A375_6H:P12', u'LPROT003_A549_6H:O08',\n",
       "       u'LPROT003_A549_6H:O10', u'LPROT003_A549_6H:O12',\n",
       "       u'LPROT003_NPC_6H:P07', u'LPROT003_NPC_6H:P09', u'LPROT003_NPC_6H:P11',\n",
       "       u'LPROT003_PC3_6H:O07', u'LPROT003_PC3_6H:O09', u'LPROT003_PC3_6H:O11'],\n",
       "      dtype='object', name=u'sig_id', length=210)"
      ]
     },
     "execution_count": 43,
     "metadata": {},
     "output_type": "execute_result"
    }
   ],
   "source": [
    "# to add this data as our col_metadata_df, \n",
    "# the sig_id column needs to be the index of the metadata DataFrame\n",
    "# For details on why this is, please refer to GCTX requirements: https://clue.io/connectopedia/gctx_format\n",
    "vorinostat_sig_id_info.set_index(\"sig_id\", inplace=True)\n",
    "# now the data frame is indexed by sig_ids consistent with those of the data_df:\n",
    "vorinostat_sig_id_info.index "
   ]
  },
  {
   "cell_type": "code",
   "execution_count": 44,
   "metadata": {},
   "outputs": [],
   "source": [
    "# set the relevant annotations as a col_metadata_df: \n",
    "vorinostat_only_gctoo.col_metadata_df = vorinostat_sig_id_info"
   ]
  },
  {
   "cell_type": "markdown",
   "metadata": {},
   "source": [
    "### Deleting Annotations \n",
    "\n",
    "Hm, but now that we look at it we probably don't need the \"pert_type\" field; since we're only looking at vorinostat data, it's \"trt_cp\" (compound) for all samples. We could keep it anyway, but just for fun let's delete it: "
   ]
  },
  {
   "cell_type": "code",
   "execution_count": 45,
   "metadata": {},
   "outputs": [
    {
     "data": {
      "text/html": [
       "<div>\n",
       "<table border=\"1\" class=\"dataframe\">\n",
       "  <thead>\n",
       "    <tr style=\"text-align: right;\">\n",
       "      <th></th>\n",
       "      <th>pert_id</th>\n",
       "      <th>pert_iname</th>\n",
       "      <th>cell_id</th>\n",
       "      <th>pert_idose</th>\n",
       "      <th>pert_itime</th>\n",
       "      <th>distil_id</th>\n",
       "    </tr>\n",
       "    <tr>\n",
       "      <th>cid</th>\n",
       "      <th></th>\n",
       "      <th></th>\n",
       "      <th></th>\n",
       "      <th></th>\n",
       "      <th></th>\n",
       "      <th></th>\n",
       "    </tr>\n",
       "  </thead>\n",
       "  <tbody>\n",
       "    <tr>\n",
       "      <th>LJP007_ASC_24H:A03</th>\n",
       "      <td>BRD-K81418486</td>\n",
       "      <td>vorinostat</td>\n",
       "      <td>ASC</td>\n",
       "      <td>10.0 um</td>\n",
       "      <td>24 h</td>\n",
       "      <td>LJP007_ASC_24H_X1_B21:A03|LJP007_ASC_24H_X2.A2...</td>\n",
       "    </tr>\n",
       "    <tr>\n",
       "      <th>LJP007_HUES3_24H:A03</th>\n",
       "      <td>BRD-K81418486</td>\n",
       "      <td>vorinostat</td>\n",
       "      <td>HUES3</td>\n",
       "      <td>10.0 um</td>\n",
       "      <td>24 h</td>\n",
       "      <td>LJP007_HUES3_24H_X2_B24:A03|LJP007_HUES3_24H_X...</td>\n",
       "    </tr>\n",
       "    <tr>\n",
       "      <th>LJP007_MNEU.E_24H:A03</th>\n",
       "      <td>BRD-K81418486</td>\n",
       "      <td>vorinostat</td>\n",
       "      <td>MNEU.E</td>\n",
       "      <td>10.0 um</td>\n",
       "      <td>24 h</td>\n",
       "      <td>LJP007_MNEU.E_24H_X1_B24:A03|LJP007_MNEU.E_24H...</td>\n",
       "    </tr>\n",
       "    <tr>\n",
       "      <th>LJP007_NEU_24H:A03</th>\n",
       "      <td>BRD-K81418486</td>\n",
       "      <td>vorinostat</td>\n",
       "      <td>NEU</td>\n",
       "      <td>10.0 um</td>\n",
       "      <td>24 h</td>\n",
       "      <td>LJP007_NEU_24H_X1_B21:A03|LJP007_NEU_24H_X2_B2...</td>\n",
       "    </tr>\n",
       "    <tr>\n",
       "      <th>LJP007_NPC.CAS9_24H:A03</th>\n",
       "      <td>BRD-K81418486</td>\n",
       "      <td>vorinostat</td>\n",
       "      <td>NPC.CAS9</td>\n",
       "      <td>10.0 um</td>\n",
       "      <td>24 h</td>\n",
       "      <td>LJP007_NPC.CAS9_24H_X1_B21:A03|LJP007_NPC.CAS9...</td>\n",
       "    </tr>\n",
       "  </tbody>\n",
       "</table>\n",
       "</div>"
      ],
      "text/plain": [
       "                               pert_id  pert_iname   cell_id pert_idose  \\\n",
       "cid                                                                       \n",
       "LJP007_ASC_24H:A03       BRD-K81418486  vorinostat       ASC    10.0 um   \n",
       "LJP007_HUES3_24H:A03     BRD-K81418486  vorinostat     HUES3    10.0 um   \n",
       "LJP007_MNEU.E_24H:A03    BRD-K81418486  vorinostat    MNEU.E    10.0 um   \n",
       "LJP007_NEU_24H:A03       BRD-K81418486  vorinostat       NEU    10.0 um   \n",
       "LJP007_NPC.CAS9_24H:A03  BRD-K81418486  vorinostat  NPC.CAS9    10.0 um   \n",
       "\n",
       "                        pert_itime  \\\n",
       "cid                                  \n",
       "LJP007_ASC_24H:A03            24 h   \n",
       "LJP007_HUES3_24H:A03          24 h   \n",
       "LJP007_MNEU.E_24H:A03         24 h   \n",
       "LJP007_NEU_24H:A03            24 h   \n",
       "LJP007_NPC.CAS9_24H:A03       24 h   \n",
       "\n",
       "                                                                 distil_id  \n",
       "cid                                                                         \n",
       "LJP007_ASC_24H:A03       LJP007_ASC_24H_X1_B21:A03|LJP007_ASC_24H_X2.A2...  \n",
       "LJP007_HUES3_24H:A03     LJP007_HUES3_24H_X2_B24:A03|LJP007_HUES3_24H_X...  \n",
       "LJP007_MNEU.E_24H:A03    LJP007_MNEU.E_24H_X1_B24:A03|LJP007_MNEU.E_24H...  \n",
       "LJP007_NEU_24H:A03       LJP007_NEU_24H_X1_B21:A03|LJP007_NEU_24H_X2_B2...  \n",
       "LJP007_NPC.CAS9_24H:A03  LJP007_NPC.CAS9_24H_X1_B21:A03|LJP007_NPC.CAS9...  "
      ]
     },
     "execution_count": 45,
     "metadata": {},
     "output_type": "execute_result"
    }
   ],
   "source": [
    "del vorinostat_only_gctoo.col_metadata_df[\"pert_type\"]\n",
    "vorinostat_only_gctoo.col_metadata_df[0:5]"
   ]
  },
  {
   "cell_type": "markdown",
   "metadata": {},
   "source": [
    "<a id=\"slicing\"></a> \n",
    "## Slicing GCToo instances \n",
    "\n",
    "Let's say that we're actually only interested in looking at vorinostat's signatures in A375 cells. First, are there vorinostat samples treated in this cell line in this GCToo instance? Let's check by first listing all unique cell lines present: "
   ]
  },
  {
   "cell_type": "code",
   "execution_count": 46,
   "metadata": {},
   "outputs": [
    {
     "data": {
      "text/plain": [
       "array(['ASC', 'HUES3', 'MNEU.E', 'NEU', 'NPC.CAS9', 'NPC', 'SKL', 'A375',\n",
       "       'A549', 'PC3', 'ASC.C', 'CD34', 'HA1E', 'HCC515', 'HEPG2', 'HME1',\n",
       "       'HT29', 'HUVEC', 'JURKAT', 'MCF7', 'NPC.TAK', 'SKL.C'], dtype=object)"
      ]
     },
     "execution_count": 46,
     "metadata": {},
     "output_type": "execute_result"
    }
   ],
   "source": [
    "vorinostat_only_gctoo.col_metadata_df[\"cell_id\"].unique()"
   ]
  },
  {
   "cell_type": "markdown",
   "metadata": {},
   "source": [
    "Let's slice our GCToo instance to only include samples/columns corresponding to vorinostat-treated A375 cells."
   ]
  },
  {
   "cell_type": "code",
   "execution_count": 47,
   "metadata": {},
   "outputs": [
    {
     "data": {
      "text/plain": [
       "array(['A375'], dtype=object)"
      ]
     },
     "execution_count": 47,
     "metadata": {},
     "output_type": "execute_result"
    }
   ],
   "source": [
    "from cmapPy.pandasGEXpress import slice_gct \n",
    "\n",
    "# first, get the cid values we want to keep \n",
    "vorinostat_a375_ids = vorinostat_only_gctoo.col_metadata_df.index[vorinostat_only_gctoo.col_metadata_df[\"cell_id\"] == \"A375\"]\n",
    "\n",
    "# slice GCToo instance to only include these values \n",
    "vorinostat_a375_gctoo = slice_gct.slice_gctoo(vorinostat_only_gctoo, cid=vorinostat_a375_ids)\n",
    "\n",
    "# Now, our samples only correspond to one cell type: A375\n",
    "vorinostat_a375_gctoo.col_metadata_df[\"cell_id\"].unique()"
   ]
  },
  {
   "cell_type": "markdown",
   "metadata": {},
   "source": [
    "Note that you can also slice by excluding rids/cids. For instance, if we wanted to include all cell lines **except** for A375, we could do so as follows: "
   ]
  },
  {
   "cell_type": "code",
   "execution_count": 48,
   "metadata": {},
   "outputs": [
    {
     "data": {
      "text/plain": [
       "array(['ASC', 'HUES3', 'MNEU.E', 'NEU', 'NPC.CAS9', 'NPC', 'SKL', 'A549',\n",
       "       'PC3', 'ASC.C', 'CD34', 'HA1E', 'HCC515', 'HEPG2', 'HME1', 'HT29',\n",
       "       'HUVEC', 'JURKAT', 'MCF7', 'NPC.TAK', 'SKL.C'], dtype=object)"
      ]
     },
     "execution_count": 48,
     "metadata": {},
     "output_type": "execute_result"
    }
   ],
   "source": [
    "# slice vorinostat_only_gctoo to exclude A375 samples only\n",
    "vorinostat_except_a375_gctoo = slice_gct.slice_gctoo(vorinostat_only_gctoo, exclude_cid=vorinostat_a375_ids)\n",
    "\n",
    "# Now we have all cell lines except for A375: \n",
    "vorinostat_except_a375_gctoo.col_metadata_df[\"cell_id\"].unique()"
   ]
  },
  {
   "cell_type": "markdown",
   "metadata": {},
   "source": [
    "You could slice genes/rows of the GCToo analogously. "
   ]
  },
  {
   "cell_type": "markdown",
   "metadata": {},
   "source": [
    "<a link=\"merging\"></a>\n",
    "## Merging GCToo objects/.gct/.gctx files \n",
    "\n",
    "If you'd like to concatenate two or more objects/files, you have two options: \n",
    "\n",
    "1. Concatenate files from the command line \n",
    "2. Concatenate GCToo objects within a Python session. \n",
    "\n",
    "To continue with our GEO-based example, here we'll demonstrate option 2; for details on how to concatenate on the command line, please see [our documentation](https://clue.io/cmapPy/pandasGEXpress.html).\n",
    "\n",
    "### Concatenating GCToo objects in a Python session \n",
    "\n",
    "We have our vorinostat expression data in A375; let's say we want to also get belinostat expression data in A375 (separately, for purposes of demonstration) and then combine these two GCToos. First, some prep: let's get the belinostat expression data in A375 that we need to do this operation: "
   ]
  },
  {
   "cell_type": "code",
   "execution_count": 49,
   "metadata": {},
   "outputs": [],
   "source": [
    "# get sig info corresponding to belinostat-treated A375 samples\n",
    "belinostat_a375_sig_info =  sig_info[(sig_info[\"pert_iname\"] == \"belinostat\") & (sig_info[\"cell_id\"] == \"A375\")]\n",
    "# set sig_id as index \n",
    "belinostat_a375_sig_info.set_index(\"sig_id\", inplace=True)\n",
    "# parse in only expression data corresponding to belinostat-treated A375 samples\n",
    "belinostat_a375_gctoo = parse(\"GSE70138_Broad_LINCS_Level5_COMPZ_n118050x12328_2017-03-06.gctx\", cid=belinostat_a375_sig_info.index)\n",
    "# annotate belinostat_a375_gctoo with its corresponding sample annotations\n",
    "belinostat_a375_gctoo.col_metadata_df = belinostat_a375_sig_info.copy()"
   ]
  },
  {
   "cell_type": "markdown",
   "metadata": {},
   "source": [
    "And now we can concatenate our belinostat & vorinostat GCToos as follows:"
   ]
  },
  {
   "cell_type": "code",
   "execution_count": 50,
   "metadata": {},
   "outputs": [
    {
     "ename": "TypeError",
     "evalue": "hstack() takes at least 3 arguments (1 given)",
     "output_type": "error",
     "traceback": [
      "\u001b[0;31m---------------------------------------------------------------------------\u001b[0m",
      "\u001b[0;31mTypeError\u001b[0m                                 Traceback (most recent call last)",
      "\u001b[0;32m<ipython-input-50-a12e5639ef1c>\u001b[0m in \u001b[0;36m<module>\u001b[0;34m()\u001b[0m\n\u001b[1;32m      2\u001b[0m \u001b[0;31m# horizontally stack the two GCToo instances (note, you can also vertically stack)\u001b[0m\u001b[0;34m\u001b[0m\u001b[0;34m\u001b[0m\u001b[0m\n\u001b[1;32m      3\u001b[0m \u001b[0;31m# Somewhat confusingly, hstack concatenates samples together (same genes) and vstack does the opposite.\u001b[0m\u001b[0;34m\u001b[0m\u001b[0;34m\u001b[0m\u001b[0m\n\u001b[0;32m----> 4\u001b[0;31m \u001b[0mHDAC_a375_gctoo\u001b[0m \u001b[0;34m=\u001b[0m \u001b[0mconcat_gctoo\u001b[0m\u001b[0;34m.\u001b[0m\u001b[0mhstack\u001b[0m\u001b[0;34m(\u001b[0m\u001b[0;34m[\u001b[0m\u001b[0mvorinostat_a375_gctoo\u001b[0m\u001b[0;34m,\u001b[0m \u001b[0mbelinostat_a375_gctoo\u001b[0m\u001b[0;34m]\u001b[0m\u001b[0;34m)\u001b[0m\u001b[0;34m\u001b[0m\u001b[0m\n\u001b[0m\u001b[1;32m      5\u001b[0m \u001b[0;34m\u001b[0m\u001b[0m\n\u001b[1;32m      6\u001b[0m \u001b[0;31m# Now we have a gctoo corresponding to two compounds, in one cell line:\u001b[0m\u001b[0;34m\u001b[0m\u001b[0;34m\u001b[0m\u001b[0m\n",
      "\u001b[0;31mTypeError\u001b[0m: hstack() takes at least 3 arguments (1 given)"
     ]
    }
   ],
   "source": [
    "from cmapPy.pandasGEXpress import concat_gctoo\n",
    "# horizontally stack the two GCToo instances (note, you can also vertically stack)\n",
    "# Somewhat confusingly, hstack concatenates samples together (same genes) and vstack does the opposite.\n",
    "HDAC_a375_gctoo = concat_gctoo.hstack([vorinostat_a375_gctoo, belinostat_a375_gctoo])\n",
    "\n",
    "# Now we have a gctoo corresponding to two compounds, in one cell line: \n",
    "print(\"unique compound data present: \") \n",
    "print(HDAC_a375_gctoo.col_metadata_df[\"pert_iname\"].unique())\n",
    "print(\"unique cell line data present: \")\n",
    "print(HDAC_a375_gctoo.col_metadata_df[\"cell_id\"].unique())\n",
    "\n",
    "# Also note we still have the same genes as before, just with additional samples of data: \n",
    "print(\"combined gctoo expression data shape:\")\n",
    "print(HDAC_a375_gctoo.data_df.shape)"
   ]
  },
  {
   "cell_type": "markdown",
   "metadata": {},
   "source": [
    "### Concatenating two .gct/x files on the command line\n",
    "\n",
    "We provide the command line tool `concat_gctoo` to concatenate either .gcts or .gctx files on the command line. \n",
    "\n",
    "Sample usage: \n",
    "\n",
    "` concat_gctoo --concat_direction horiz --input_filepaths first_file.gct second_file.gct` will output a file named concated.gctx; you can specify a different outname if you prefer. On the command line, type `concat_gctoo -h` to see help options. "
   ]
  },
  {
   "cell_type": "markdown",
   "metadata": {},
   "source": [
    "<a id=\"newGCToo\"></a>\n",
    "## Constructing a new GCToo instance programatically \n",
    "\n",
    "If you have your own DataFrames of data, you can also construct your own GCToo instance (note that to do so, you need to fulfill the [requirements of a valid gctx](clue.io/code)). Just for illustrative purposes, let's make one using copies of our HDAC GCToo DataFrames, so that we can also associate a single [multi-index DataFrame](http://pandas.pydata.org/pandas-docs/stable/advanced.html) of our combined data_df, row_metadata_df, and column_data_df with this GCToo instance. \n",
    "\n",
    "**Note**: By default, the GCToo constructor does not make a multi_index_df; details on this and other optional arguments [here](http://cmappy.readthedocs.io/en/latest/pandasGEXpress.html#gctoo-class)."
   ]
  },
  {
   "cell_type": "code",
   "execution_count": null,
   "metadata": {},
   "outputs": [],
   "source": [
    "from cmapPy.pandasGEXpress import GCToo\n",
    "\n",
    "HDAC_a375_gctoo_with_multiindex = GCToo.GCToo(data_df=HDAC_a375_gctoo.data_df.copy(), \n",
    "                                              row_metadata_df=HDAC_a375_gctoo.row_metadata_df.copy(), \n",
    "                                              col_metadata_df=HDAC_a375_gctoo.col_metadata_df.copy(), \n",
    "                                             make_multiindex=True)\n",
    "\n",
    "# Let's take a look at a subset of this multiindex DataFrame; this can be useful for indexing etc.\n",
    "HDAC_a375_gctoo_with_multiindex.multi_index_df[0:5]"
   ]
  },
  {
   "cell_type": "markdown",
   "metadata": {},
   "source": [
    "For more information on multi-index DataFrames, please refer to the PANDAS project documentation. "
   ]
  },
  {
   "cell_type": "markdown",
   "metadata": {},
   "source": [
    "<a link=\"pandas\"></a>\n",
    "## Using pandas tools with your GCToo instance \n",
    "\n",
    "A big reason why we wrote `pandasGEXpress` was to enable users to maximize their use of `pandas`, `scikit-learn`, and other powerful and robustly-developed Python data science packages. Interacting with such tools simply requires referencing the relevant DataFrame attributes of your GCToo instance; here, we'll demonstrate how to do some basic arithmetic and grouping tasks on components of a GCToo instance. It should go without saying that the examples below are common but also fairly trivial examples of the wide functionality that libraries like pandas and sci-kit learn provide. \n",
    "\n",
    "Another `pandas` functionality that is likely to be of use is its `groupby` tools; as long as your data/annotations aren't too big, it can work nicely with your GCToo instance's `multi_index_df`.\n",
    "\n",
    "### Column/row-wise means\n",
    "\n",
    "Let's go back to our vorinostat-treated A375 cells. What is the mean expression across all samples? "
   ]
  },
  {
   "cell_type": "code",
   "execution_count": null,
   "metadata": {},
   "outputs": [],
   "source": [
    "import pandas as pd \n",
    "\n",
    "vorinostat_a375_gctoo.data_df.mean(axis = 0) #easy-peasy"
   ]
  },
  {
   "cell_type": "markdown",
   "metadata": {},
   "source": [
    "If we wanted to determine the mean expression across all samples for individual genes, we would set axis=1. \n",
    "\n",
    "### Pairwise correlation of columns \n",
    "\n",
    "How correlated are our samples? "
   ]
  },
  {
   "cell_type": "code",
   "execution_count": null,
   "metadata": {},
   "outputs": [],
   "source": [
    "vorinostat_a375_cors = vorinostat_a375_gctoo.data_df.corr()\n",
    "vorinostat_a375_cors[0:5] #only showing first 5 rows "
   ]
  },
  {
   "cell_type": "markdown",
   "metadata": {},
   "source": [
    "<a id=\"plotting\"></a>\n",
    "## Plotting with GCToo instances \n",
    "\n",
    "Because the attributes of a GCToo instance are pandas DataFrames, you can use any plotting libraries compatible with pandas DataFrames to generate plots; we frequently use [seaborn](https://seaborn.pydata.org/) and [matplotlib](https://matplotlib.org/). For simple plots, pandas also provides built-in plotting functionality for DataFrame objects.  \n",
    "\n",
    "As an illustrative example, we calculate the correlations across samples again, but this time also plot it as a heatmap--all in one!"
   ]
  },
  {
   "cell_type": "code",
   "execution_count": null,
   "metadata": {},
   "outputs": [],
   "source": [
    "import seaborn as sns\n",
    "import matplotlib.pyplot as plt\n",
    "sns.set()\n",
    "\n",
    "\n",
    "sns.heatmap(vorinostat_a375_gctoo.data_df.corr(), cmap='plasma')\n",
    "plt.show()"
   ]
  },
  {
   "cell_type": "markdown",
   "metadata": {
    "collapsed": true
   },
   "source": [
    "<a id=\"writing\"></a>\n",
    "## Writing GCToo instances to file \n",
    "\n",
    "Here's how you would write your GCToo instance as a .gctx; note that if you'd like to write to .gct, the syntax is identical but you need to import ``write_gct`` instead. "
   ]
  },
  {
   "cell_type": "code",
   "execution_count": null,
   "metadata": {},
   "outputs": [],
   "source": [
    "from cmapPy.pandasGEXpress import write_gctx as write_gctx\n",
    "\n",
    "# write GCToo instance to .gctx\n",
    "write_gctx.write(belinostat_a375_gctoo, \"belinostat_a375\")"
   ]
  },
  {
   "cell_type": "markdown",
   "metadata": {},
   "source": [
    "<a id=\"converting\"></a>\n",
    "## Converting .gct <-> .gctx \n",
    "\n",
    "Converting from a gct to a gctx might be useful if you have a large gct and want faster IO in the future. We provide the following command line tools to do so: \n",
    "\n",
    "* `gct2gctx`\n",
    "* `gctx2gct`\n",
    "\n",
    "**To write some_thing.gct -> some_thing.gctx:**\n",
    "\n",
    "gct2gctx -filename path/to/in_name.gct -output_filepath /path/to/out_name\n",
    "\n",
    "Converting a gctx to a gct might be useful if you want to look at your .gctx file in a text editor or something similar. \n",
    "\n",
    "**To write some_thing.gctx -> some_thing.gct in working directory:**\n",
    "\n",
    "gctx2gct -filename path/to/in_name.gctx -output_filepath /path/to/out_name\n"
   ]
  }
 ],
 "metadata": {
  "anaconda-cloud": {},
  "kernelspec": {
   "display_name": "Python 2",
   "language": "python",
   "name": "python2"
  },
  "language_info": {
   "codemirror_mode": {
    "name": "ipython",
    "version": 2
   },
   "file_extension": ".py",
   "mimetype": "text/x-python",
   "name": "python",
   "nbconvert_exporter": "python",
   "pygments_lexer": "ipython2",
   "version": "2.7.11"
  }
 },
 "nbformat": 4,
 "nbformat_minor": 2
}
